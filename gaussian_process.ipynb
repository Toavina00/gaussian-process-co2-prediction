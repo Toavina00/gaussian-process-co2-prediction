{
  "cells": [
    {
      "cell_type": "markdown",
      "id": "fbad6519-1cf7-49eb-9a4e-34b03d6c8876",
      "metadata": {
        "id": "fbad6519-1cf7-49eb-9a4e-34b03d6c8876"
      },
      "source": [
        "# CO2 quantity prediction\n",
        "\n",
        "We have a dataset that contains records of atmospheric CO2 measurements at the Mauna Loa Observatory in Hawaii.\n",
        "We will analyze our data in order to predict the quantity of CO2 in the atmosphere using gaussian process.."
      ]
    },
    {
      "cell_type": "code",
      "execution_count": 1,
      "id": "c9fec3e7-549e-4a48-9fcf-845b41c3f697",
      "metadata": {
        "id": "c9fec3e7-549e-4a48-9fcf-845b41c3f697"
      },
      "outputs": [],
      "source": [
        "import numpy as np\n",
        "import matplotlib.pyplot as plt\n",
        "import pandas as pd\n",
        "\n",
        "from sklearn.base import BaseEstimator\n",
        "\n",
        "import warnings\n",
        "warnings.simplefilter('ignore')"
      ]
    },
    {
      "cell_type": "markdown",
      "id": "1d3e3d74-b765-44eb-b343-aa043c557fd3",
      "metadata": {
        "id": "1d3e3d74-b765-44eb-b343-aa043c557fd3"
      },
      "source": [
        "### Gaussian Process Implementation with RBF Kernel"
      ]
    },
    {
      "cell_type": "code",
      "execution_count": 2,
      "id": "2246bec0-f336-4470-b11f-72c083638dd7",
      "metadata": {
        "id": "2246bec0-f336-4470-b11f-72c083638dd7"
      },
      "outputs": [],
      "source": [
        "def rbf_gram(X1, X2, sigma):\n",
        "        X1, X2 = np.array(X1), np.array(X2)\n",
        "        K = np.linalg.norm(X1[:, np.newaxis] - X2, axis=2) / sigma\n",
        "        K = np.square(K)\n",
        "        K = np.exp(-K)\n",
        "        return K"
      ]
    },
    {
      "cell_type": "code",
      "execution_count": 3,
      "id": "4254845c-c6b7-4f4a-8f6c-de2f77b988f2",
      "metadata": {
        "id": "4254845c-c6b7-4f4a-8f6c-de2f77b988f2"
      },
      "outputs": [],
      "source": [
        "class GaussianProcess():\n",
        "\n",
        "    def __init__(self, fit_intercept=True, sigma=1e-10, alpha=0.0):\n",
        "        self.sigma = sigma\n",
        "        self.alpha = alpha\n",
        "        self.fit_intercept = fit_intercept\n",
        "\n",
        "    def fit(self, X, y):\n",
        "        self.X = np.hstack( (np.ones((X.shape[0],1)), X) ) if self.fit_intercept else X\n",
        "        self.mu = np.mean(y)\n",
        "        self.y = y - np.mean(y)\n",
        "        self.K = rbf_gram(self.X, self.X, self.sigma)\n",
        "\n",
        "    def predict(self, X):\n",
        "        X = np.hstack( (np.ones((X.shape[0],1)), X) ) if self.fit_intercept else X\n",
        "        K_s = rbf_gram(self.X, X, self.sigma)\n",
        "        L = np.linalg.cholesky(self.K + (self.alpha**2) * np.eye(self.K.shape[0]))\n",
        "        Lv = np.linalg.inv(L)\n",
        "        return K_s.T @ Lv.T @ Lv @ self.y + self.mu"
      ]
    },
    {
      "cell_type": "markdown",
      "id": "91ae13db-5074-43bc-9e61-64d20f87dd92",
      "metadata": {
        "id": "91ae13db-5074-43bc-9e61-64d20f87dd92"
      },
      "source": [
        "### Exploratory Data Analysis"
      ]
    },
    {
      "cell_type": "code",
      "execution_count": 4,
      "id": "2a0ce2eb-8975-4110-a541-1ae35f8a2844",
      "metadata": {
        "id": "2a0ce2eb-8975-4110-a541-1ae35f8a2844"
      },
      "outputs": [],
      "source": [
        "df = pd.read_csv(\"mauna_loa.csv\")\n",
        "df.drop(columns=\"Unnamed: 0\", inplace=True)\n",
        "df[\"co2\"] = df[\"co2\"].astype(float)"
      ]
    },
    {
      "cell_type": "code",
      "execution_count": 5,
      "id": "5d19068e-911d-457f-a870-6e705e0e69ec",
      "metadata": {
        "id": "5d19068e-911d-457f-a870-6e705e0e69ec",
        "outputId": "bbe6b930-b58b-46bd-c8a3-bb604064fd78",
        "colab": {
          "base_uri": "https://localhost:8080/"
        }
      },
      "outputs": [
        {
          "output_type": "execute_result",
          "data": {
            "text/plain": [
              "(2225, 7)"
            ]
          },
          "metadata": {},
          "execution_count": 5
        }
      ],
      "source": [
        "df.shape"
      ]
    },
    {
      "cell_type": "markdown",
      "id": "b8c08e03-245f-423b-85e7-be92a31b03bb",
      "metadata": {
        "id": "b8c08e03-245f-423b-85e7-be92a31b03bb"
      },
      "source": [
        "Our dataframe contains 2225 observations and 7 variables."
      ]
    },
    {
      "cell_type": "code",
      "execution_count": 6,
      "id": "6f5aa271-e123-4404-8da6-3c2766f84def",
      "metadata": {
        "id": "6f5aa271-e123-4404-8da6-3c2766f84def",
        "outputId": "2d03548d-b899-4804-ac42-3c33111c5416",
        "colab": {
          "base_uri": "https://localhost:8080/",
          "height": 206
        }
      },
      "outputs": [
        {
          "output_type": "execute_result",
          "data": {
            "text/plain": [
              "   year  month  day  weight  flag station    co2\n",
              "0  1958      3   29       4     0     MLO  316.1\n",
              "1  1958      4    5       6     0     MLO  317.3\n",
              "2  1958      4   12       4     0     MLO  317.6\n",
              "3  1958      4   19       6     0     MLO  317.5\n",
              "4  1958      4   26       2     0     MLO  316.4"
            ],
            "text/html": [
              "\n",
              "  <div id=\"df-1f497168-a138-4f4d-90d2-4f1d21a2d3bb\" class=\"colab-df-container\">\n",
              "    <div>\n",
              "<style scoped>\n",
              "    .dataframe tbody tr th:only-of-type {\n",
              "        vertical-align: middle;\n",
              "    }\n",
              "\n",
              "    .dataframe tbody tr th {\n",
              "        vertical-align: top;\n",
              "    }\n",
              "\n",
              "    .dataframe thead th {\n",
              "        text-align: right;\n",
              "    }\n",
              "</style>\n",
              "<table border=\"1\" class=\"dataframe\">\n",
              "  <thead>\n",
              "    <tr style=\"text-align: right;\">\n",
              "      <th></th>\n",
              "      <th>year</th>\n",
              "      <th>month</th>\n",
              "      <th>day</th>\n",
              "      <th>weight</th>\n",
              "      <th>flag</th>\n",
              "      <th>station</th>\n",
              "      <th>co2</th>\n",
              "    </tr>\n",
              "  </thead>\n",
              "  <tbody>\n",
              "    <tr>\n",
              "      <th>0</th>\n",
              "      <td>1958</td>\n",
              "      <td>3</td>\n",
              "      <td>29</td>\n",
              "      <td>4</td>\n",
              "      <td>0</td>\n",
              "      <td>MLO</td>\n",
              "      <td>316.1</td>\n",
              "    </tr>\n",
              "    <tr>\n",
              "      <th>1</th>\n",
              "      <td>1958</td>\n",
              "      <td>4</td>\n",
              "      <td>5</td>\n",
              "      <td>6</td>\n",
              "      <td>0</td>\n",
              "      <td>MLO</td>\n",
              "      <td>317.3</td>\n",
              "    </tr>\n",
              "    <tr>\n",
              "      <th>2</th>\n",
              "      <td>1958</td>\n",
              "      <td>4</td>\n",
              "      <td>12</td>\n",
              "      <td>4</td>\n",
              "      <td>0</td>\n",
              "      <td>MLO</td>\n",
              "      <td>317.6</td>\n",
              "    </tr>\n",
              "    <tr>\n",
              "      <th>3</th>\n",
              "      <td>1958</td>\n",
              "      <td>4</td>\n",
              "      <td>19</td>\n",
              "      <td>6</td>\n",
              "      <td>0</td>\n",
              "      <td>MLO</td>\n",
              "      <td>317.5</td>\n",
              "    </tr>\n",
              "    <tr>\n",
              "      <th>4</th>\n",
              "      <td>1958</td>\n",
              "      <td>4</td>\n",
              "      <td>26</td>\n",
              "      <td>2</td>\n",
              "      <td>0</td>\n",
              "      <td>MLO</td>\n",
              "      <td>316.4</td>\n",
              "    </tr>\n",
              "  </tbody>\n",
              "</table>\n",
              "</div>\n",
              "    <div class=\"colab-df-buttons\">\n",
              "\n",
              "  <div class=\"colab-df-container\">\n",
              "    <button class=\"colab-df-convert\" onclick=\"convertToInteractive('df-1f497168-a138-4f4d-90d2-4f1d21a2d3bb')\"\n",
              "            title=\"Convert this dataframe to an interactive table.\"\n",
              "            style=\"display:none;\">\n",
              "\n",
              "  <svg xmlns=\"http://www.w3.org/2000/svg\" height=\"24px\" viewBox=\"0 -960 960 960\">\n",
              "    <path d=\"M120-120v-720h720v720H120Zm60-500h600v-160H180v160Zm220 220h160v-160H400v160Zm0 220h160v-160H400v160ZM180-400h160v-160H180v160Zm440 0h160v-160H620v160ZM180-180h160v-160H180v160Zm440 0h160v-160H620v160Z\"/>\n",
              "  </svg>\n",
              "    </button>\n",
              "\n",
              "  <style>\n",
              "    .colab-df-container {\n",
              "      display:flex;\n",
              "      gap: 12px;\n",
              "    }\n",
              "\n",
              "    .colab-df-convert {\n",
              "      background-color: #E8F0FE;\n",
              "      border: none;\n",
              "      border-radius: 50%;\n",
              "      cursor: pointer;\n",
              "      display: none;\n",
              "      fill: #1967D2;\n",
              "      height: 32px;\n",
              "      padding: 0 0 0 0;\n",
              "      width: 32px;\n",
              "    }\n",
              "\n",
              "    .colab-df-convert:hover {\n",
              "      background-color: #E2EBFA;\n",
              "      box-shadow: 0px 1px 2px rgba(60, 64, 67, 0.3), 0px 1px 3px 1px rgba(60, 64, 67, 0.15);\n",
              "      fill: #174EA6;\n",
              "    }\n",
              "\n",
              "    .colab-df-buttons div {\n",
              "      margin-bottom: 4px;\n",
              "    }\n",
              "\n",
              "    [theme=dark] .colab-df-convert {\n",
              "      background-color: #3B4455;\n",
              "      fill: #D2E3FC;\n",
              "    }\n",
              "\n",
              "    [theme=dark] .colab-df-convert:hover {\n",
              "      background-color: #434B5C;\n",
              "      box-shadow: 0px 1px 3px 1px rgba(0, 0, 0, 0.15);\n",
              "      filter: drop-shadow(0px 1px 2px rgba(0, 0, 0, 0.3));\n",
              "      fill: #FFFFFF;\n",
              "    }\n",
              "  </style>\n",
              "\n",
              "    <script>\n",
              "      const buttonEl =\n",
              "        document.querySelector('#df-1f497168-a138-4f4d-90d2-4f1d21a2d3bb button.colab-df-convert');\n",
              "      buttonEl.style.display =\n",
              "        google.colab.kernel.accessAllowed ? 'block' : 'none';\n",
              "\n",
              "      async function convertToInteractive(key) {\n",
              "        const element = document.querySelector('#df-1f497168-a138-4f4d-90d2-4f1d21a2d3bb');\n",
              "        const dataTable =\n",
              "          await google.colab.kernel.invokeFunction('convertToInteractive',\n",
              "                                                    [key], {});\n",
              "        if (!dataTable) return;\n",
              "\n",
              "        const docLinkHtml = 'Like what you see? Visit the ' +\n",
              "          '<a target=\"_blank\" href=https://colab.research.google.com/notebooks/data_table.ipynb>data table notebook</a>'\n",
              "          + ' to learn more about interactive tables.';\n",
              "        element.innerHTML = '';\n",
              "        dataTable['output_type'] = 'display_data';\n",
              "        await google.colab.output.renderOutput(dataTable, element);\n",
              "        const docLink = document.createElement('div');\n",
              "        docLink.innerHTML = docLinkHtml;\n",
              "        element.appendChild(docLink);\n",
              "      }\n",
              "    </script>\n",
              "  </div>\n",
              "\n",
              "\n",
              "<div id=\"df-652c4f0d-a5a3-455b-ad2f-76f49ae12565\">\n",
              "  <button class=\"colab-df-quickchart\" onclick=\"quickchart('df-652c4f0d-a5a3-455b-ad2f-76f49ae12565')\"\n",
              "            title=\"Suggest charts\"\n",
              "            style=\"display:none;\">\n",
              "\n",
              "<svg xmlns=\"http://www.w3.org/2000/svg\" height=\"24px\"viewBox=\"0 0 24 24\"\n",
              "     width=\"24px\">\n",
              "    <g>\n",
              "        <path d=\"M19 3H5c-1.1 0-2 .9-2 2v14c0 1.1.9 2 2 2h14c1.1 0 2-.9 2-2V5c0-1.1-.9-2-2-2zM9 17H7v-7h2v7zm4 0h-2V7h2v10zm4 0h-2v-4h2v4z\"/>\n",
              "    </g>\n",
              "</svg>\n",
              "  </button>\n",
              "\n",
              "<style>\n",
              "  .colab-df-quickchart {\n",
              "      --bg-color: #E8F0FE;\n",
              "      --fill-color: #1967D2;\n",
              "      --hover-bg-color: #E2EBFA;\n",
              "      --hover-fill-color: #174EA6;\n",
              "      --disabled-fill-color: #AAA;\n",
              "      --disabled-bg-color: #DDD;\n",
              "  }\n",
              "\n",
              "  [theme=dark] .colab-df-quickchart {\n",
              "      --bg-color: #3B4455;\n",
              "      --fill-color: #D2E3FC;\n",
              "      --hover-bg-color: #434B5C;\n",
              "      --hover-fill-color: #FFFFFF;\n",
              "      --disabled-bg-color: #3B4455;\n",
              "      --disabled-fill-color: #666;\n",
              "  }\n",
              "\n",
              "  .colab-df-quickchart {\n",
              "    background-color: var(--bg-color);\n",
              "    border: none;\n",
              "    border-radius: 50%;\n",
              "    cursor: pointer;\n",
              "    display: none;\n",
              "    fill: var(--fill-color);\n",
              "    height: 32px;\n",
              "    padding: 0;\n",
              "    width: 32px;\n",
              "  }\n",
              "\n",
              "  .colab-df-quickchart:hover {\n",
              "    background-color: var(--hover-bg-color);\n",
              "    box-shadow: 0 1px 2px rgba(60, 64, 67, 0.3), 0 1px 3px 1px rgba(60, 64, 67, 0.15);\n",
              "    fill: var(--button-hover-fill-color);\n",
              "  }\n",
              "\n",
              "  .colab-df-quickchart-complete:disabled,\n",
              "  .colab-df-quickchart-complete:disabled:hover {\n",
              "    background-color: var(--disabled-bg-color);\n",
              "    fill: var(--disabled-fill-color);\n",
              "    box-shadow: none;\n",
              "  }\n",
              "\n",
              "  .colab-df-spinner {\n",
              "    border: 2px solid var(--fill-color);\n",
              "    border-color: transparent;\n",
              "    border-bottom-color: var(--fill-color);\n",
              "    animation:\n",
              "      spin 1s steps(1) infinite;\n",
              "  }\n",
              "\n",
              "  @keyframes spin {\n",
              "    0% {\n",
              "      border-color: transparent;\n",
              "      border-bottom-color: var(--fill-color);\n",
              "      border-left-color: var(--fill-color);\n",
              "    }\n",
              "    20% {\n",
              "      border-color: transparent;\n",
              "      border-left-color: var(--fill-color);\n",
              "      border-top-color: var(--fill-color);\n",
              "    }\n",
              "    30% {\n",
              "      border-color: transparent;\n",
              "      border-left-color: var(--fill-color);\n",
              "      border-top-color: var(--fill-color);\n",
              "      border-right-color: var(--fill-color);\n",
              "    }\n",
              "    40% {\n",
              "      border-color: transparent;\n",
              "      border-right-color: var(--fill-color);\n",
              "      border-top-color: var(--fill-color);\n",
              "    }\n",
              "    60% {\n",
              "      border-color: transparent;\n",
              "      border-right-color: var(--fill-color);\n",
              "    }\n",
              "    80% {\n",
              "      border-color: transparent;\n",
              "      border-right-color: var(--fill-color);\n",
              "      border-bottom-color: var(--fill-color);\n",
              "    }\n",
              "    90% {\n",
              "      border-color: transparent;\n",
              "      border-bottom-color: var(--fill-color);\n",
              "    }\n",
              "  }\n",
              "</style>\n",
              "\n",
              "  <script>\n",
              "    async function quickchart(key) {\n",
              "      const quickchartButtonEl =\n",
              "        document.querySelector('#' + key + ' button');\n",
              "      quickchartButtonEl.disabled = true;  // To prevent multiple clicks.\n",
              "      quickchartButtonEl.classList.add('colab-df-spinner');\n",
              "      try {\n",
              "        const charts = await google.colab.kernel.invokeFunction(\n",
              "            'suggestCharts', [key], {});\n",
              "      } catch (error) {\n",
              "        console.error('Error during call to suggestCharts:', error);\n",
              "      }\n",
              "      quickchartButtonEl.classList.remove('colab-df-spinner');\n",
              "      quickchartButtonEl.classList.add('colab-df-quickchart-complete');\n",
              "    }\n",
              "    (() => {\n",
              "      let quickchartButtonEl =\n",
              "        document.querySelector('#df-652c4f0d-a5a3-455b-ad2f-76f49ae12565 button');\n",
              "      quickchartButtonEl.style.display =\n",
              "        google.colab.kernel.accessAllowed ? 'block' : 'none';\n",
              "    })();\n",
              "  </script>\n",
              "</div>\n",
              "\n",
              "    </div>\n",
              "  </div>\n"
            ],
            "application/vnd.google.colaboratory.intrinsic+json": {
              "type": "dataframe",
              "variable_name": "df",
              "summary": "{\n  \"name\": \"df\",\n  \"rows\": 2225,\n  \"fields\": [\n    {\n      \"column\": \"year\",\n      \"properties\": {\n        \"dtype\": \"number\",\n        \"std\": 12,\n        \"min\": 1958,\n        \"max\": 2001,\n        \"num_unique_values\": 44,\n        \"samples\": [\n          1995,\n          1982,\n          1983\n        ],\n        \"semantic_type\": \"\",\n        \"description\": \"\"\n      }\n    },\n    {\n      \"column\": \"month\",\n      \"properties\": {\n        \"dtype\": \"number\",\n        \"std\": 3,\n        \"min\": 1,\n        \"max\": 12,\n        \"num_unique_values\": 12,\n        \"samples\": [\n          6,\n          2,\n          3\n        ],\n        \"semantic_type\": \"\",\n        \"description\": \"\"\n      }\n    },\n    {\n      \"column\": \"day\",\n      \"properties\": {\n        \"dtype\": \"number\",\n        \"std\": 8,\n        \"min\": 1,\n        \"max\": 31,\n        \"num_unique_values\": 31,\n        \"samples\": [\n          18,\n          22,\n          28\n        ],\n        \"semantic_type\": \"\",\n        \"description\": \"\"\n      }\n    },\n    {\n      \"column\": \"weight\",\n      \"properties\": {\n        \"dtype\": \"number\",\n        \"std\": 1,\n        \"min\": 1,\n        \"max\": 7,\n        \"num_unique_values\": 7,\n        \"samples\": [\n          4,\n          6,\n          7\n        ],\n        \"semantic_type\": \"\",\n        \"description\": \"\"\n      }\n    },\n    {\n      \"column\": \"flag\",\n      \"properties\": {\n        \"dtype\": \"number\",\n        \"std\": 0,\n        \"min\": 0,\n        \"max\": 0,\n        \"num_unique_values\": 1,\n        \"samples\": [\n          0\n        ],\n        \"semantic_type\": \"\",\n        \"description\": \"\"\n      }\n    },\n    {\n      \"column\": \"station\",\n      \"properties\": {\n        \"dtype\": \"category\",\n        \"num_unique_values\": 1,\n        \"samples\": [\n          \"MLO\"\n        ],\n        \"semantic_type\": \"\",\n        \"description\": \"\"\n      }\n    },\n    {\n      \"column\": \"co2\",\n      \"properties\": {\n        \"dtype\": \"number\",\n        \"std\": 17.00388482860339,\n        \"min\": 313.0,\n        \"max\": 373.9,\n        \"num_unique_values\": 581,\n        \"samples\": [\n          373.8\n        ],\n        \"semantic_type\": \"\",\n        \"description\": \"\"\n      }\n    }\n  ]\n}"
            }
          },
          "metadata": {},
          "execution_count": 6
        }
      ],
      "source": [
        "df.head()"
      ]
    },
    {
      "cell_type": "markdown",
      "id": "f590ff99-fcba-46c3-a6e1-b79cd5ff1a5a",
      "metadata": {
        "id": "f590ff99-fcba-46c3-a6e1-b79cd5ff1a5a"
      },
      "source": [
        "Above is a preview of the contents of the dataframe which allows us to see the different variables."
      ]
    },
    {
      "cell_type": "code",
      "execution_count": 7,
      "id": "9f52dc12-d2d9-479c-8abc-1cdb655de906",
      "metadata": {
        "id": "9f52dc12-d2d9-479c-8abc-1cdb655de906",
        "outputId": "d61fddf0-5e02-49da-d19a-fe8a9a776d93",
        "colab": {
          "base_uri": "https://localhost:8080/",
          "height": 304
        }
      },
      "outputs": [
        {
          "output_type": "execute_result",
          "data": {
            "text/plain": [
              "year       0\n",
              "month      0\n",
              "day        0\n",
              "weight     0\n",
              "flag       0\n",
              "station    0\n",
              "co2        0\n",
              "dtype: int64"
            ],
            "text/html": [
              "<div>\n",
              "<style scoped>\n",
              "    .dataframe tbody tr th:only-of-type {\n",
              "        vertical-align: middle;\n",
              "    }\n",
              "\n",
              "    .dataframe tbody tr th {\n",
              "        vertical-align: top;\n",
              "    }\n",
              "\n",
              "    .dataframe thead th {\n",
              "        text-align: right;\n",
              "    }\n",
              "</style>\n",
              "<table border=\"1\" class=\"dataframe\">\n",
              "  <thead>\n",
              "    <tr style=\"text-align: right;\">\n",
              "      <th></th>\n",
              "      <th>0</th>\n",
              "    </tr>\n",
              "  </thead>\n",
              "  <tbody>\n",
              "    <tr>\n",
              "      <th>year</th>\n",
              "      <td>0</td>\n",
              "    </tr>\n",
              "    <tr>\n",
              "      <th>month</th>\n",
              "      <td>0</td>\n",
              "    </tr>\n",
              "    <tr>\n",
              "      <th>day</th>\n",
              "      <td>0</td>\n",
              "    </tr>\n",
              "    <tr>\n",
              "      <th>weight</th>\n",
              "      <td>0</td>\n",
              "    </tr>\n",
              "    <tr>\n",
              "      <th>flag</th>\n",
              "      <td>0</td>\n",
              "    </tr>\n",
              "    <tr>\n",
              "      <th>station</th>\n",
              "      <td>0</td>\n",
              "    </tr>\n",
              "    <tr>\n",
              "      <th>co2</th>\n",
              "      <td>0</td>\n",
              "    </tr>\n",
              "  </tbody>\n",
              "</table>\n",
              "</div><br><label><b>dtype:</b> int64</label>"
            ]
          },
          "metadata": {},
          "execution_count": 7
        }
      ],
      "source": [
        "df.isna().sum()"
      ]
    },
    {
      "cell_type": "markdown",
      "id": "f29f2b48-8c24-48a4-b20a-b1ea1536360c",
      "metadata": {
        "id": "f29f2b48-8c24-48a4-b20a-b1ea1536360c"
      },
      "source": [
        "No missing values are observed in the dataframe."
      ]
    },
    {
      "cell_type": "code",
      "execution_count": 8,
      "id": "1e17c1e3-8e9f-486d-a637-daf363c022cf",
      "metadata": {
        "id": "1e17c1e3-8e9f-486d-a637-daf363c022cf",
        "outputId": "1e8d439c-d7f1-4f14-f785-288fe2b842d6",
        "colab": {
          "base_uri": "https://localhost:8080/",
          "height": 304
        }
      },
      "outputs": [
        {
          "output_type": "execute_result",
          "data": {
            "text/plain": [
              "year        44\n",
              "month       12\n",
              "day         31\n",
              "weight       7\n",
              "flag         1\n",
              "station      1\n",
              "co2        581\n",
              "dtype: int64"
            ],
            "text/html": [
              "<div>\n",
              "<style scoped>\n",
              "    .dataframe tbody tr th:only-of-type {\n",
              "        vertical-align: middle;\n",
              "    }\n",
              "\n",
              "    .dataframe tbody tr th {\n",
              "        vertical-align: top;\n",
              "    }\n",
              "\n",
              "    .dataframe thead th {\n",
              "        text-align: right;\n",
              "    }\n",
              "</style>\n",
              "<table border=\"1\" class=\"dataframe\">\n",
              "  <thead>\n",
              "    <tr style=\"text-align: right;\">\n",
              "      <th></th>\n",
              "      <th>0</th>\n",
              "    </tr>\n",
              "  </thead>\n",
              "  <tbody>\n",
              "    <tr>\n",
              "      <th>year</th>\n",
              "      <td>44</td>\n",
              "    </tr>\n",
              "    <tr>\n",
              "      <th>month</th>\n",
              "      <td>12</td>\n",
              "    </tr>\n",
              "    <tr>\n",
              "      <th>day</th>\n",
              "      <td>31</td>\n",
              "    </tr>\n",
              "    <tr>\n",
              "      <th>weight</th>\n",
              "      <td>7</td>\n",
              "    </tr>\n",
              "    <tr>\n",
              "      <th>flag</th>\n",
              "      <td>1</td>\n",
              "    </tr>\n",
              "    <tr>\n",
              "      <th>station</th>\n",
              "      <td>1</td>\n",
              "    </tr>\n",
              "    <tr>\n",
              "      <th>co2</th>\n",
              "      <td>581</td>\n",
              "    </tr>\n",
              "  </tbody>\n",
              "</table>\n",
              "</div><br><label><b>dtype:</b> int64</label>"
            ]
          },
          "metadata": {},
          "execution_count": 8
        }
      ],
      "source": [
        "df.nunique()"
      ]
    },
    {
      "cell_type": "markdown",
      "id": "8d72abbe-8e57-49e8-9a8f-7f670172d1d1",
      "metadata": {
        "id": "8d72abbe-8e57-49e8-9a8f-7f670172d1d1"
      },
      "source": [
        "We see that some variables are constant, so they are unusable in our model."
      ]
    },
    {
      "cell_type": "code",
      "execution_count": 9,
      "id": "6092585f-f0b9-4ace-8a1e-251ad11684cb",
      "metadata": {
        "tags": [],
        "id": "6092585f-f0b9-4ace-8a1e-251ad11684cb",
        "outputId": "26bcc7fe-18d7-4390-c2a3-4e96d5b68bf0",
        "colab": {
          "base_uri": "https://localhost:8080/",
          "height": 402
        }
      },
      "outputs": [
        {
          "output_type": "display_data",
          "data": {
            "text/plain": [
              "<Figure size 640x480 with 1 Axes>"
            ],
            "image/png": "[encoded data removed]"
          },
          "metadata": {}
        }
      ],
      "source": [
        "df.index = pd.to_datetime(df[[\"year\", \"month\", \"day\"]])\n",
        "df.co2.plot();"
      ]
    },
    {
      "cell_type": "markdown",
      "id": "e3b6c452-a8cd-4379-b370-3548b5368aab",
      "metadata": {
        "id": "e3b6c452-a8cd-4379-b370-3548b5368aab"
      },
      "source": [
        "We observe growth in CO2 measurements in the atmosphere over the years."
      ]
    },
    {
      "cell_type": "code",
      "execution_count": 10,
      "id": "cd8cbb5e-e830-43fc-8f8a-6b587619085d",
      "metadata": {
        "id": "cd8cbb5e-e830-43fc-8f8a-6b587619085d",
        "outputId": "a9f9c2d1-e8ea-4a1b-ef75-8b2522fc33d3",
        "colab": {
          "base_uri": "https://localhost:8080/",
          "height": 430
        }
      },
      "outputs": [
        {
          "output_type": "display_data",
          "data": {
            "text/plain": [
              "<Figure size 640x480 with 1 Axes>"
            ],
            "image/png": "[encoded data removed]"
          },
          "metadata": {}
        }
      ],
      "source": [
        "df.co2.resample(\"Y\").mean().plot();"
      ]
    },
    {
      "cell_type": "markdown",
      "id": "543ff6b6-2baf-4393-9a63-8aacaa50ec32",
      "metadata": {
        "id": "543ff6b6-2baf-4393-9a63-8aacaa50ec32"
      },
      "source": [
        "By taking the annual average, we can clearly see the growth in CO2 measurements in the atmosphere. We will need to manage this growing trend to be able to better model the target variable."
      ]
    },
    {
      "cell_type": "markdown",
      "id": "60d9757e-2320-41e0-bf8b-d97fd011ee58",
      "metadata": {
        "id": "60d9757e-2320-41e0-bf8b-d97fd011ee58"
      },
      "source": [
        "### Model"
      ]
    },
    {
      "cell_type": "markdown",
      "id": "62668638-88a1-4c2a-8761-2162f87f2ad5",
      "metadata": {
        "id": "62668638-88a1-4c2a-8761-2162f87f2ad5"
      },
      "source": [
        "For evaluation, we will use RMSE as the metric."
      ]
    },
    {
      "cell_type": "code",
      "execution_count": 11,
      "id": "8bf3772e-e0df-4d22-824e-c7cad38d2205",
      "metadata": {
        "id": "8bf3772e-e0df-4d22-824e-c7cad38d2205"
      },
      "outputs": [],
      "source": [
        "from sklearn.metrics import mean_squared_error as MSE\n",
        "from sklearn.model_selection import train_test_split\n",
        "from sklearn.linear_model import LinearRegression, RidgeCV, LassoCV"
      ]
    },
    {
      "cell_type": "code",
      "execution_count": 12,
      "id": "6d3971bf-ec4b-4507-bc64-2f0eaa79d532",
      "metadata": {
        "id": "6d3971bf-ec4b-4507-bc64-2f0eaa79d532"
      },
      "outputs": [],
      "source": [
        "df_year = df[[\"year\", \"co2\"]].groupby(\"year\").mean().reset_index()\n",
        "df_month = df[[\"year\", \"month\", \"co2\"]].groupby([\"year\", \"month\"]).mean().reset_index()\n",
        "\n",
        "Xm, ym = df_month.drop(columns=\"co2\"), df_month.co2\n",
        "Xy, yy = df_year.drop(columns=\"co2\"), df_year.co2"
      ]
    },
    {
      "cell_type": "markdown",
      "id": "ead834b0-50f4-4b41-afc3-7accd0ca9e86",
      "metadata": {
        "id": "ead834b0-50f4-4b41-afc3-7accd0ca9e86"
      },
      "source": [
        "We will model the increasing trend in CO2 measurements using a linear regression model."
      ]
    },
    {
      "cell_type": "code",
      "execution_count": 13,
      "id": "e71aca8b-9592-4610-bfa8-09aadd162b2b",
      "metadata": {
        "id": "e71aca8b-9592-4610-bfa8-09aadd162b2b"
      },
      "outputs": [],
      "source": [
        "Xm_train, Xm_test, ym_train, ym_test = train_test_split(Xm, ym, shuffle=False, test_size=0.2)\n",
        "Xy_train, Xy_test, yy_train, yy_test = train_test_split(Xy, yy, shuffle=False, test_size=0.2)"
      ]
    },
    {
      "cell_type": "code",
      "execution_count": 16,
      "id": "502b0095-cdd1-4933-9cfd-ee21ad28d9da",
      "metadata": {
        "id": "502b0095-cdd1-4933-9cfd-ee21ad28d9da",
        "outputId": "3610192b-e6a8-4811-a255-aed5040a3ae6",
        "colab": {
          "base_uri": "https://localhost:8080/"
        }
      },
      "outputs": [
        {
          "output_type": "stream",
          "name": "stdout",
          "text": [
            "RMSE0:  16.729116660004813\n",
            "RMSE1:  16.73794276019081\n",
            "RMSE2:  17.016932615666278\n",
            "RMSE3:  14.218710248190543\n",
            "RMSE4:  14.326616690082524\n",
            "RMSE5:  15.186045015678733\n"
          ]
        }
      ],
      "source": [
        "trend_m = [LinearRegression(), RidgeCV(alphas=np.arange(0.1, 2.0, 0.1)), LassoCV(alphas=np.arange(0.1, 2.0, 0.1))]\n",
        "trend_y = [LinearRegression(), RidgeCV(alphas=np.arange(0.1, 2.0, 0.1)), LassoCV(alphas=np.arange(0.1, 2.0, 0.1))]\n",
        "\n",
        "i = 0\n",
        "\n",
        "for model in trend_m:\n",
        "    model.fit(Xm_train, ym_train)\n",
        "    print(f\"RMSE{i}: \", MSE(ym_test, model.predict(Xm_test)))\n",
        "    i += 1\n",
        "\n",
        "for model in trend_y:\n",
        "    model.fit(Xy_train, yy_train)\n",
        "    print(f\"RMSE{i}: \", MSE(yy_test, model.predict(Xy_test)))\n",
        "    i += 1"
      ]
    },
    {
      "cell_type": "code",
      "execution_count": 17,
      "id": "74964449-d1f8-44b3-915a-52e930e413b9",
      "metadata": {
        "id": "74964449-d1f8-44b3-915a-52e930e413b9"
      },
      "outputs": [],
      "source": [
        "trend = trend_y[0]"
      ]
    },
    {
      "cell_type": "code",
      "execution_count": null,
      "id": "fd318720-10b6-4403-8e1d-2e01617501d3",
      "metadata": {
        "id": "fd318720-10b6-4403-8e1d-2e01617501d3",
        "outputId": "df08f41c-e96c-4533-912b-9f912e1aea12"
      },
      "outputs": [
        {
          "data": {
            "image/png": "[encoded data removed]",
            "text/plain": [
              "<Figure size 640x480 with 1 Axes>"
            ]
          },
          "metadata": {},
          "output_type": "display_data"
        }
      ],
      "source": [
        "(df.co2 - trend.predict(df[[\"year\"]])).plot();"
      ]
    },
    {
      "cell_type": "markdown",
      "id": "c3f5dcf5-c7bb-4b38-8318-675adc82b2dc",
      "metadata": {
        "id": "c3f5dcf5-c7bb-4b38-8318-675adc82b2dc"
      },
      "source": [
        "We can see that we managed to remove the growing trend and obtain a target that we can predict more efficiently."
      ]
    },
    {
      "cell_type": "markdown",
      "id": "e4116e07-57e6-4c32-82f2-0287e721748c",
      "metadata": {
        "id": "e4116e07-57e6-4c32-82f2-0287e721748c"
      },
      "source": [
        "Now we will build a model to predict the amount of CO2 in the atmosphere."
      ]
    },
    {
      "cell_type": "code",
      "execution_count": 18,
      "id": "d0bae2af-87b1-4c0b-a3e3-bebb572b97d9",
      "metadata": {
        "id": "d0bae2af-87b1-4c0b-a3e3-bebb572b97d9"
      },
      "outputs": [],
      "source": [
        "X, y = df[[\"year\", \"month\", \"day\", \"weight\"]], df.co2\n",
        "X_train, X_test, y_train, y_test = train_test_split(X, y, shuffle=False, test_size=0.2)"
      ]
    },
    {
      "cell_type": "code",
      "execution_count": 19,
      "id": "13bce39b-dc71-4717-8e43-be99a935d3ce",
      "metadata": {
        "id": "13bce39b-dc71-4717-8e43-be99a935d3ce"
      },
      "outputs": [],
      "source": [
        "class CustomGaussianProcess(GaussianProcess):\n",
        "\n",
        "    def __init__(self, trend, sigma=1e-10, alpha=0.0):\n",
        "        super().__init__(False, sigma, alpha)\n",
        "        self.trend = trend\n",
        "\n",
        "    def fit(self, X, y):\n",
        "        super().fit(X, y - self.trend.predict(X[[\"year\"]]))\n",
        "\n",
        "    def predict(self, X):\n",
        "        pred = super().predict(X)\n",
        "        return pred + self.trend.predict(X[[\"year\"]])"
      ]
    },
    {
      "cell_type": "code",
      "execution_count": 20,
      "id": "79839420-1c83-42c1-b032-e75982d11e18",
      "metadata": {
        "id": "79839420-1c83-42c1-b032-e75982d11e18"
      },
      "outputs": [],
      "source": [
        "model = CustomGaussianProcess(trend)\n",
        "model.fit(X_train, y_train)"
      ]
    },
    {
      "cell_type": "code",
      "execution_count": 22,
      "id": "286eaf2e-5d72-4834-8e29-83cfaaec8cf2",
      "metadata": {
        "id": "286eaf2e-5d72-4834-8e29-83cfaaec8cf2",
        "outputId": "98cca67a-4d17-460a-f64c-5cdcb68c230b",
        "colab": {
          "base_uri": "https://localhost:8080/"
        }
      },
      "outputs": [
        {
          "output_type": "stream",
          "name": "stdout",
          "text": [
            "RMSE:  18.471491730460645\n"
          ]
        }
      ],
      "source": [
        "print(\"RMSE: \", MSE(model.predict(X_test), y_test))"
      ]
    }
  ],
  "metadata": {
    "kernelspec": {
      "display_name": "Python 3 (ipykernel)",
      "language": "python",
      "name": "python3"
    },
    "language_info": {
      "codemirror_mode": {
        "name": "ipython",
        "version": 3
      },
      "file_extension": ".py",
      "mimetype": "text/x-python",
      "name": "python",
      "nbconvert_exporter": "python",
      "pygments_lexer": "ipython3",
      "version": "3.11.7"
    },
    "colab": {
      "provenance": []
    }
  },
  "nbformat": 4,
  "nbformat_minor": 5
}